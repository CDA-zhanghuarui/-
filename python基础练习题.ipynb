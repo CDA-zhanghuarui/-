{
 "cells": [
  {
   "cell_type": "markdown",
   "metadata": {
    "toc": true
   },
   "source": [
    "<h1>Table of Contents<span class=\"tocSkip\"></span></h1>\n",
    "<div class=\"toc\"><ul class=\"toc-item\"><li><span><a href=\"#字符串练习\" data-toc-modified-id=\"字符串练习-1\">字符串练习</a></span><ul class=\"toc-item\"><li><span><a href=\"#练习1.1：\" data-toc-modified-id=\"练习1.1：-1.1\">练习1.1：</a></span></li><li><span><a href=\"#练习1.2：\" data-toc-modified-id=\"练习1.2：-1.2\">练习1.2：</a></span></li><li><span><a href=\"#练习1.3：\" data-toc-modified-id=\"练习1.3：-1.3\">练习1.3：</a></span></li><li><span><a href=\"#练习1.4：\" data-toc-modified-id=\"练习1.4：-1.4\">练习1.4：</a></span></li><li><span><a href=\"#练习1.5：\" data-toc-modified-id=\"练习1.5：-1.5\">练习1.5：</a></span></li><li><span><a href=\"#练习1.6：\" data-toc-modified-id=\"练习1.6：-1.6\">练习1.6：</a></span></li></ul></li><li><span><a href=\"#列表练习\" data-toc-modified-id=\"列表练习-2\">列表练习</a></span><ul class=\"toc-item\"><li><span><a href=\"#练习1.7：\" data-toc-modified-id=\"练习1.7：-2.1\">练习1.7：</a></span></li><li><span><a href=\"#练习1.8：\" data-toc-modified-id=\"练习1.8：-2.2\">练习1.8：</a></span></li><li><span><a href=\"#练习1.9：\" data-toc-modified-id=\"练习1.9：-2.3\">练习1.9：</a></span></li><li><span><a href=\"#练习1.10：\" data-toc-modified-id=\"练习1.10：-2.4\">练习1.10：</a></span></li></ul></li><li><span><a href=\"#字典练习\" data-toc-modified-id=\"字典练习-3\">字典练习</a></span><ul class=\"toc-item\"><li><span><a href=\"#练习1.11:\" data-toc-modified-id=\"练习1.11:-3.1\">练习1.11:</a></span></li><li><span><a href=\"#练习1.12：\" data-toc-modified-id=\"练习1.12：-3.2\">练习1.12：</a></span></li><li><span><a href=\"#练习1.13：\" data-toc-modified-id=\"练习1.13：-3.3\">练习1.13：</a></span></li></ul></li><li><span><a href=\"#控制流练习\" data-toc-modified-id=\"控制流练习-4\">控制流练习</a></span><ul class=\"toc-item\"><li><span><a href=\"#练习1.14:\" data-toc-modified-id=\"练习1.14:-4.1\">练习1.14:</a></span></li><li><span><a href=\"#练习1.15：\" data-toc-modified-id=\"练习1.15：-4.2\">练习1.15：</a></span></li><li><span><a href=\"#练习1.16：\" data-toc-modified-id=\"练习1.16：-4.3\">练习1.16：</a></span></li><li><span><a href=\"#练习1.17：\" data-toc-modified-id=\"练习1.17：-4.4\">练习1.17：</a></span></li><li><span><a href=\"#练习1.18：\" data-toc-modified-id=\"练习1.18：-4.5\">练习1.18：</a></span></li><li><span><a href=\"#练习1.19：\" data-toc-modified-id=\"练习1.19：-4.6\">练习1.19：</a></span></li><li><span><a href=\"#练习1.20\" data-toc-modified-id=\"练习1.20-4.7\">练习1.20</a></span></li><li><span><a href=\"#练习1.21：\" data-toc-modified-id=\"练习1.21：-4.8\">练习1.21：</a></span></li><li><span><a href=\"#练习1.22：\" data-toc-modified-id=\"练习1.22：-4.9\">练习1.22：</a></span></li><li><span><a href=\"#练习1.23:\" data-toc-modified-id=\"练习1.23:-4.10\">练习1.23:</a></span></li><li><span><a href=\"#练习1.24:\" data-toc-modified-id=\"练习1.24:-4.11\">练习1.24:</a></span></li><li><span><a href=\"#练习1.25:\" data-toc-modified-id=\"练习1.25:-4.12\">练习1.25:</a></span></li></ul></li><li><span><a href=\"#函数练习\" data-toc-modified-id=\"函数练习-5\">函数练习</a></span><ul class=\"toc-item\"><li><span><a href=\"#练习1.26:\" data-toc-modified-id=\"练习1.26:-5.1\">练习1.26:</a></span></li><li><span><a href=\"#练习1.27:\" data-toc-modified-id=\"练习1.27:-5.2\">练习1.27:</a></span></li><li><span><a href=\"#练习1.28:\" data-toc-modified-id=\"练习1.28:-5.3\">练习1.28:</a></span></li><li><span><a href=\"#练习1.29:\" data-toc-modified-id=\"练习1.29:-5.4\">练习1.29:</a></span></li><li><span><a href=\"#练习1.30:\" data-toc-modified-id=\"练习1.30:-5.5\">练习1.30:</a></span></li><li><span><a href=\"#练习1.31:\" data-toc-modified-id=\"练习1.31:-5.6\">练习1.31:</a></span></li><li><span><a href=\"#练习1.32:\" data-toc-modified-id=\"练习1.32:-5.7\">练习1.32:</a></span></li></ul></li><li><span><a href=\"#异常和基础函数练习\" data-toc-modified-id=\"异常和基础函数练习-6\">异常和基础函数练习</a></span><ul class=\"toc-item\"><li><span><a href=\"#练习1.33:\" data-toc-modified-id=\"练习1.33:-6.1\">练习1.33:</a></span></li><li><span><a href=\"#练习1.34:\" data-toc-modified-id=\"练习1.34:-6.2\">练习1.34:</a></span></li><li><span><a href=\"#练习1.35:\" data-toc-modified-id=\"练习1.35:-6.3\">练习1.35:</a></span></li><li><span><a href=\"#练习1.36:\" data-toc-modified-id=\"练习1.36:-6.4\">练习1.36:</a></span></li><li><span><a href=\"#练习1.37:\" data-toc-modified-id=\"练习1.37:-6.5\">练习1.37:</a></span></li></ul></li><li><span><a href=\"#列表生成器和高级函数练习\" data-toc-modified-id=\"列表生成器和高级函数练习-7\">列表生成器和高级函数练习</a></span><ul class=\"toc-item\"><li><span><a href=\"#练习1.38:\" data-toc-modified-id=\"练习1.38:-7.1\">练习1.38:</a></span></li><li><span><a href=\"#练习1.39:\" data-toc-modified-id=\"练习1.39:-7.2\">练习1.39:</a></span></li><li><span><a href=\"#练习1.40:\" data-toc-modified-id=\"练习1.40:-7.3\">练习1.40:</a></span></li><li><span><a href=\"#练习1.41:\" data-toc-modified-id=\"练习1.41:-7.4\">练习1.41:</a></span></li><li><span><a href=\"#练习1.42:\" data-toc-modified-id=\"练习1.42:-7.5\">练习1.42:</a></span></li><li><span><a href=\"#练习1.43:\" data-toc-modified-id=\"练习1.43:-7.6\">练习1.43:</a></span></li><li><span><a href=\"#练习1.44:\" data-toc-modified-id=\"练习1.44:-7.7\">练习1.44:</a></span></li><li><span><a href=\"#练习1.45:\" data-toc-modified-id=\"练习1.45:-7.8\">练习1.45:</a></span></li></ul></li></ul></div>"
   ]
  },
  {
   "cell_type": "code",
   "execution_count": 1,
   "metadata": {},
   "outputs": [],
   "source": [
    "import numpy as np\n",
    "import pandas as pd"
   ]
  },
  {
   "cell_type": "markdown",
   "metadata": {},
   "source": [
    "## 字符串练习"
   ]
  },
  {
   "cell_type": "markdown",
   "metadata": {},
   "source": [
    "### 练习1.1：\n",
    "已知字符串 s = “sadINDUionaREwSS” ，能否将该字符串前半部分转换大写，后半部分转换成小写？为什么？（若字符串长度为奇数，中间的字符大写。）"
   ]
  },
  {
   "cell_type": "code",
   "execution_count": 2,
   "metadata": {},
   "outputs": [
    {
     "name": "stdout",
     "output_type": "stream",
     "text": [
      "SADINDUIOnarewsss\n"
     ]
    }
   ],
   "source": [
    "s='sadINDUionaREwSSs'\n",
    "if len(s)%2==0:\n",
    "    print(s[:int(len(s)/2)].upper()+s[int(len(s)/2):].lower())\n",
    "else:\n",
    "    print(s[:int(len(s)/2)+1].upper()+s[int(len(s)/2)+1:].lower())"
   ]
  },
  {
   "cell_type": "markdown",
   "metadata": {},
   "source": [
    "### 练习1.2：\n",
    "请生成字符串s3，s3为s进行逆序排序的结果。"
   ]
  },
  {
   "cell_type": "code",
   "execution_count": 3,
   "metadata": {},
   "outputs": [
    {
     "data": {
      "text/plain": [
       "'SSwERanoiUDNIdas'"
      ]
     },
     "execution_count": 3,
     "metadata": {},
     "output_type": "execute_result"
    }
   ],
   "source": [
    "s='sadINDUionaREwSS'\n",
    "s3=s[::-1]\n",
    "s3"
   ]
  },
  {
   "cell_type": "markdown",
   "metadata": {},
   "source": [
    "### 练习1.3：\n",
    "请基于练习一中的截取s中奇数位并转化为大写，截取s中偶数位并转换为小写。"
   ]
  },
  {
   "cell_type": "code",
   "execution_count": 4,
   "metadata": {},
   "outputs": [
    {
     "data": {
      "text/plain": [
       "'SaDiNdUiOnArEwSs'"
      ]
     },
     "execution_count": 4,
     "metadata": {},
     "output_type": "execute_result"
    }
   ],
   "source": [
    "s='sadINDUionaREwSS'\n",
    "a=''\n",
    "for i in range(len(s)):\n",
    "    if i%2==0:\n",
    "        a+=s[i].upper()\n",
    "    else:\n",
    "        a+=s[i].lower()\n",
    "a"
   ]
  },
  {
   "cell_type": "markdown",
   "metadata": {},
   "source": [
    "### 练习1.4：\n",
    "\"2017/10/15 14:15:45\"这个时间的字符串，请截取年份，月份，日期，时，分，秒"
   ]
  },
  {
   "cell_type": "code",
   "execution_count": 5,
   "metadata": {},
   "outputs": [
    {
     "name": "stdout",
     "output_type": "stream",
     "text": [
      "2017 10 15 14 15 45\n"
     ]
    }
   ],
   "source": [
    "s='2017/10/15 14:15:45'\n",
    "year=s[:4]\n",
    "month=s[5:7]\n",
    "day=s[8:10]\n",
    "year,month,day,hour,minute,second=s[:4],s[5:7],s[8:10],s[11:13],s[14:16],s[17:]\n",
    "print(year,month,day,hour,minute,second)"
   ]
  },
  {
   "cell_type": "code",
   "execution_count": 6,
   "metadata": {},
   "outputs": [
    {
     "name": "stdout",
     "output_type": "stream",
     "text": [
      "2017 10 15 14 15 45\n"
     ]
    }
   ],
   "source": [
    "s='2017/10/15 14:15:45'\n",
    "s=s.replace('/','')\n",
    "s=s.replace(':','')\n",
    "s=s.replace(' ','')\n",
    "year,month,day,hour,minute,second= s[:4],s[4:6],s[6:8],s[8:10],s[10:12],s[12:]\n",
    "print(year,month,day,hour,minute,second)"
   ]
  },
  {
   "cell_type": "code",
   "execution_count": 7,
   "metadata": {},
   "outputs": [
    {
     "name": "stdout",
     "output_type": "stream",
     "text": [
      "2017\n",
      "10\n",
      "15\n",
      "14\n",
      "15\n",
      "45\n"
     ]
    }
   ],
   "source": [
    "s=\"2017/10/15 14:15:45\"\n",
    "print(s.split(\"/\")[0])\n",
    "print(s.split(\"/\")[1])\n",
    "print(s.split(\"/\")[2].split(\" \")[0])\n",
    "print(s.split(\"/\")[2].split(\" \")[1].split(\":\")[0])\n",
    "print(s.split(\"/\")[2].split(\" \")[1].split(\":\")[1])\n",
    "print(s.split(\"/\")[2].split(\" \")[1].split(\":\")[2])"
   ]
  },
  {
   "cell_type": "markdown",
   "metadata": {},
   "source": [
    "### 练习1.5：\n",
    "用input输入一个数字的字符串，然后转换成整型，然后乘以5加上8计算后转换成字符串输出"
   ]
  },
  {
   "cell_type": "code",
   "execution_count": 8,
   "metadata": {
    "scrolled": true
   },
   "outputs": [
    {
     "name": "stdout",
     "output_type": "stream",
     "text": [
      "输入一个数字字符串：123\n",
      "623\n"
     ]
    }
   ],
   "source": [
    "s=input('输入一个数字字符串：')\n",
    "\n",
    "while int(s):\n",
    "    print(int(s)*5+8)\n",
    "    break"
   ]
  },
  {
   "cell_type": "markdown",
   "metadata": {},
   "source": [
    "### 练习1.6：\n",
    "str10=\"aabbccddeeabbbadddd\"将用A将前2个a替换，然后用find函数返回最后一个a的索引"
   ]
  },
  {
   "cell_type": "code",
   "execution_count": 9,
   "metadata": {},
   "outputs": [
    {
     "data": {
      "text/plain": [
       "'AAbbccddeeabbbadddd'"
      ]
     },
     "execution_count": 9,
     "metadata": {},
     "output_type": "execute_result"
    }
   ],
   "source": [
    "str10='aabbccddeeabbbadddd'\n",
    "str11=str10[0:2].upper()+str10[2:]\n",
    "str11"
   ]
  },
  {
   "cell_type": "code",
   "execution_count": 10,
   "metadata": {},
   "outputs": [
    {
     "data": {
      "text/plain": [
       "14"
      ]
     },
     "execution_count": 10,
     "metadata": {},
     "output_type": "execute_result"
    }
   ],
   "source": [
    "str11.rfind('a')"
   ]
  },
  {
   "cell_type": "markdown",
   "metadata": {},
   "source": [
    "## 列表练习"
   ]
  },
  {
   "cell_type": "markdown",
   "metadata": {},
   "source": [
    "### 练习1.7：\n",
    "列表L，[2,5,3,8,10,1],对其进行升序排序并输出"
   ]
  },
  {
   "cell_type": "code",
   "execution_count": 11,
   "metadata": {},
   "outputs": [
    {
     "data": {
      "text/plain": [
       "[10, 8, 5, 3, 2, 1]"
      ]
     },
     "execution_count": 11,
     "metadata": {},
     "output_type": "execute_result"
    }
   ],
   "source": [
    "L=[2,5,3,8,10,1]\n",
    "L.sort(reverse=True)\n",
    "L"
   ]
  },
  {
   "cell_type": "markdown",
   "metadata": {},
   "source": [
    "### 练习1.8：\n",
    "字符串s，\"123456\"，将其转化成列表逆序并输出"
   ]
  },
  {
   "cell_type": "code",
   "execution_count": 12,
   "metadata": {},
   "outputs": [
    {
     "data": {
      "text/plain": [
       "['6', '5', '4', '3', '2', '1']"
      ]
     },
     "execution_count": 12,
     "metadata": {},
     "output_type": "execute_result"
    }
   ],
   "source": [
    "s='123456'\n",
    "L=list(s)\n",
    "L.reverse()\n",
    "L"
   ]
  },
  {
   "cell_type": "markdown",
   "metadata": {},
   "source": [
    "### 练习1.9：\n",
    "l=[1,2,3]有几种方法可以扩展成[1,2,3,4,5,6]"
   ]
  },
  {
   "cell_type": "code",
   "execution_count": 13,
   "metadata": {},
   "outputs": [
    {
     "name": "stdout",
     "output_type": "stream",
     "text": [
      "[1, 2, 3, 4, 5, 6]\n"
     ]
    }
   ],
   "source": [
    "l=[1,2,3]\n",
    "for i in range(4,7):\n",
    "    l.append(i)\n",
    "print(l)"
   ]
  },
  {
   "cell_type": "code",
   "execution_count": 14,
   "metadata": {},
   "outputs": [],
   "source": [
    "l=[1,2,3]\n",
    "l.extend([4,5,6])"
   ]
  },
  {
   "cell_type": "code",
   "execution_count": 15,
   "metadata": {},
   "outputs": [
    {
     "data": {
      "text/plain": [
       "[1, 2, 3, 4, 5, 6]"
      ]
     },
     "execution_count": 15,
     "metadata": {},
     "output_type": "execute_result"
    }
   ],
   "source": [
    "l=[1,2,3]\n",
    "l=l+[4,5,6]\n",
    "l"
   ]
  },
  {
   "cell_type": "markdown",
   "metadata": {},
   "source": [
    "在使用时不要把list.append/list.extend/list.insert赋值给另一个list，这会导致list值为空"
   ]
  },
  {
   "cell_type": "markdown",
   "metadata": {},
   "source": [
    "### 练习1.10：\n",
    "List=[1,3,5,7,9,0,2,4,6,8]使用切片得到[4, 0, 7]，[5, 9, 2, 6]"
   ]
  },
  {
   "cell_type": "code",
   "execution_count": 16,
   "metadata": {},
   "outputs": [
    {
     "data": {
      "text/plain": [
       "[4, 0, 7]"
      ]
     },
     "execution_count": 16,
     "metadata": {},
     "output_type": "execute_result"
    }
   ],
   "source": [
    "List=[1,3,5,7,9,0,2,4,6,8]\n",
    "List[-3:-8:-2]"
   ]
  },
  {
   "cell_type": "markdown",
   "metadata": {},
   "source": [
    "## 字典练习"
   ]
  },
  {
   "cell_type": "markdown",
   "metadata": {
    "collapsed": true
   },
   "source": [
    "### 练习1.11:\n",
    "建一个字典，添加新的键值对，在此基础上更新另外一个字典，在将字典以列表的方式返回。"
   ]
  },
  {
   "cell_type": "code",
   "execution_count": 17,
   "metadata": {},
   "outputs": [
    {
     "data": {
      "text/plain": [
       "[('s1', 5), ('s2', 3), ('s3', 6), ('s4', 8), ('s5', 4)]"
      ]
     },
     "execution_count": 17,
     "metadata": {},
     "output_type": "execute_result"
    }
   ],
   "source": [
    "d={'s1':5,'s2':3,'s3':6}\n",
    "d.update({'s4':8})\n",
    "d['s5']=4\n",
    "list(d.items())#dict.items() 将键和值看成一个元素并返回列表"
   ]
  },
  {
   "cell_type": "markdown",
   "metadata": {},
   "source": [
    "### 练习1.12：\n",
    "Dict={\"d\":\"banana\",\"a\":\"apple\",\"b\":\"grape\",\"c\":\"orange\"}转换成列表用键进行排序。"
   ]
  },
  {
   "cell_type": "code",
   "execution_count": 18,
   "metadata": {},
   "outputs": [
    {
     "data": {
      "text/plain": [
       "[('a', 'apple'), ('b', 'grape'), ('c', 'orange'), ('d', 'banana')]"
      ]
     },
     "execution_count": 18,
     "metadata": {},
     "output_type": "execute_result"
    }
   ],
   "source": [
    "Dict={\"d\":\"banana\",\"a\":\"apple\",\"b\":\"grape\",\"c\":\"orange\"}\n",
    "d=sorted(Dict.items())\n",
    "d"
   ]
  },
  {
   "cell_type": "markdown",
   "metadata": {},
   "source": [
    "### 练习1.13：\n",
    "d={\"a\":1,\"b\":2,\"c\":3},分别输出它的key与value。向其插入字典{\"d\":4}"
   ]
  },
  {
   "cell_type": "code",
   "execution_count": 19,
   "metadata": {},
   "outputs": [
    {
     "name": "stdout",
     "output_type": "stream",
     "text": [
      "dict_keys(['a', 'b', 'c'])\n",
      "dict_values([1, 2, 3])\n"
     ]
    },
    {
     "data": {
      "text/plain": [
       "{'a': 1, 'b': 2, 'c': 3, 'd': 4}"
      ]
     },
     "execution_count": 19,
     "metadata": {},
     "output_type": "execute_result"
    }
   ],
   "source": [
    "d={\"a\":1,\"b\":2,\"c\":3}\n",
    "print(d.keys())\n",
    "print(d.values())\n",
    "d.update({'d':4})\n",
    "d"
   ]
  },
  {
   "cell_type": "markdown",
   "metadata": {},
   "source": [
    "## 控制流练习"
   ]
  },
  {
   "cell_type": "markdown",
   "metadata": {
    "collapsed": true
   },
   "source": [
    "### 练习1.14:\n",
    "输入2个数，比较2个数的大小"
   ]
  },
  {
   "cell_type": "code",
   "execution_count": 20,
   "metadata": {},
   "outputs": [],
   "source": [
    "def compare(x1,x2):\n",
    "    if x1-x2>0:\n",
    "        print('%d大于%d' % (x1,x2))\n",
    "    elif x1-x2==0:\n",
    "        print('%d等于%d' % (x1,x2))\n",
    "    else:\n",
    "        print('%d小于%d' % (x1,x2))"
   ]
  },
  {
   "cell_type": "code",
   "execution_count": 21,
   "metadata": {},
   "outputs": [
    {
     "name": "stdout",
     "output_type": "stream",
     "text": [
      "4等于4\n"
     ]
    }
   ],
   "source": [
    "compare(4,4)"
   ]
  },
  {
   "cell_type": "code",
   "execution_count": 22,
   "metadata": {},
   "outputs": [
    {
     "name": "stdout",
     "output_type": "stream",
     "text": [
      "1\n",
      "2\n",
      "1小于2\n"
     ]
    }
   ],
   "source": [
    "a=int(input())\n",
    "b=int(input())\n",
    "if a>b :\n",
    "    print('{}大于{}'.format(a,b))\n",
    "elif a==b:\n",
    "    print('{}等于{}'.format(a,b))\n",
    "else:\n",
    "    print('{}小于{}'.format(a,b))"
   ]
  },
  {
   "cell_type": "markdown",
   "metadata": {},
   "source": [
    "### 练习1.15：\n",
    "- 生成0 1 2 3 4 6 7 8 9这样一列数据\n",
    "- 生成(0 1 2 3 4 5 6 7 8 9 over)这样一列数据\n",
    "- 生成(0 over 1 over 2 over 3 over 4 over 5 over 6 over 7 over 8 over 9 over)这样一列数据"
   ]
  },
  {
   "cell_type": "code",
   "execution_count": 23,
   "metadata": {},
   "outputs": [
    {
     "data": {
      "text/plain": [
       "[0, 1, 2, 3, 4, 5, 6, 7, 8, 9]"
      ]
     },
     "execution_count": 23,
     "metadata": {},
     "output_type": "execute_result"
    }
   ],
   "source": [
    "a=[]\n",
    "for i in range(10):\n",
    "    a.append(i)\n",
    "a"
   ]
  },
  {
   "cell_type": "code",
   "execution_count": 24,
   "metadata": {},
   "outputs": [
    {
     "data": {
      "text/plain": [
       "[0, 1, 2, 3, 4, 5, 6, 7, 8, 9, 'over']"
      ]
     },
     "execution_count": 24,
     "metadata": {},
     "output_type": "execute_result"
    }
   ],
   "source": [
    "a=[]\n",
    "for i in range(10):\n",
    "    a.append(i)\n",
    "j=['over']\n",
    "a.extend(j)\n",
    "a"
   ]
  },
  {
   "cell_type": "code",
   "execution_count": 25,
   "metadata": {},
   "outputs": [
    {
     "name": "stdout",
     "output_type": "stream",
     "text": [
      "[0, 1, 2, 3, 4, 5, 6, 7, 8, 9, 'over']\n"
     ]
    }
   ],
   "source": [
    "b=[]\n",
    "for i in range(11):\n",
    "    if i<=9:\n",
    "        b.append(i)\n",
    "    else:\n",
    "        b.append('over')\n",
    "print(b)"
   ]
  },
  {
   "cell_type": "markdown",
   "metadata": {},
   "source": [
    "### 练习1.16：\n",
    "打印出所有的“水仙花数”，所谓“水仙花数”是指一个三位数，其各位数字立方和等于本身"
   ]
  },
  {
   "cell_type": "code",
   "execution_count": 26,
   "metadata": {},
   "outputs": [
    {
     "name": "stdout",
     "output_type": "stream",
     "text": [
      "153\n",
      "370\n",
      "371\n",
      "407\n"
     ]
    }
   ],
   "source": [
    "for i in range(100,1000):\n",
    "    if ((i//100)**3+(i//10%10)**3+(i%10)**3)==i:\n",
    "        print(i)"
   ]
  },
  {
   "cell_type": "code",
   "execution_count": 27,
   "metadata": {},
   "outputs": [
    {
     "name": "stdout",
     "output_type": "stream",
     "text": [
      "[153, 370, 371, 407]\n"
     ]
    }
   ],
   "source": [
    "I=[]\n",
    "for i in range(100,1000):\n",
    "    i=str(i)\n",
    "    if int(i)==int(i[0])**3+int(i[1])**3+int(i[2])**3:\n",
    "        \n",
    "        I+=[int(i)]\n",
    "print(I)"
   ]
  },
  {
   "cell_type": "markdown",
   "metadata": {},
   "source": [
    "### 练习1.17：\n",
    "有四个数字：1、2、3、4，能组成多少个互不相同且无重复数字的三位数？各是多少？"
   ]
  },
  {
   "cell_type": "code",
   "execution_count": 28,
   "metadata": {},
   "outputs": [
    {
     "name": "stdout",
     "output_type": "stream",
     "text": [
      "[123, 124, 132, 134, 142, 143, 213, 214, 231, 234, 241, 243, 312, 314, 321, 324, 341, 342, 412, 413, 421, 423, 431, 432]\n"
     ]
    },
    {
     "data": {
      "text/plain": [
       "24"
      ]
     },
     "execution_count": 28,
     "metadata": {},
     "output_type": "execute_result"
    }
   ],
   "source": [
    "l=[]\n",
    "for i in range(1,5):\n",
    "    for j in range(1,5):\n",
    "        for z in range(1,5):\n",
    "            if i!=j and i!=z and j!=z:\n",
    "                l.append(int(str(i)+str(j)+str(z)))\n",
    "print(l)\n",
    "len(l)"
   ]
  },
  {
   "cell_type": "markdown",
   "metadata": {},
   "source": [
    "### 练习1.18：\n",
    "请生成一列表，包含自0到20(含20)的整数列表，并输出全部偶数。"
   ]
  },
  {
   "cell_type": "code",
   "execution_count": 29,
   "metadata": {},
   "outputs": [
    {
     "name": "stdout",
     "output_type": "stream",
     "text": [
      "[0, 1, 2, 3, 4, 5, 6, 7, 8, 9, 10, 11, 12, 13, 14, 15, 16, 17, 18, 19, 20]\n"
     ]
    },
    {
     "data": {
      "text/plain": [
       "[0, 2, 4, 6, 8, 10, 12, 14, 16, 18, 20]"
      ]
     },
     "execution_count": 29,
     "metadata": {},
     "output_type": "execute_result"
    }
   ],
   "source": [
    "l=[]\n",
    "for i in range(0,21):\n",
    "    l.append(i)\n",
    "print(l)\n",
    "l[::2]"
   ]
  },
  {
   "cell_type": "code",
   "execution_count": 30,
   "metadata": {},
   "outputs": [
    {
     "data": {
      "text/plain": [
       "[0, 2, 4, 6, 8, 10, 12, 14, 16, 18, 20]"
      ]
     },
     "execution_count": 30,
     "metadata": {},
     "output_type": "execute_result"
    }
   ],
   "source": [
    "l=[i for i in range(0,21) if i%2==0]\n",
    "l"
   ]
  },
  {
   "cell_type": "markdown",
   "metadata": {},
   "source": [
    "### 练习1.19：\n",
    "企业发放的奖金根据利润提成。利润(I)低于或等于10万元时，奖金可提10%；利润高于10万元，低于20万元时，低于10万元的部分按10%提成，高于10万元的部分，可提成7.5%；20万到40万之间时，高于20万元的部分，可提成5%；40万到60万之间时高于40万元的部分，可提成3%；60万到100万之间时，高于60万元的部分，可提成1.5%，高于100万元时，超过100万元的部分按1%提成，从键盘输入当月利润I，求应发放奖金总数？"
   ]
  },
  {
   "cell_type": "code",
   "execution_count": 31,
   "metadata": {},
   "outputs": [
    {
     "name": "stdout",
     "output_type": "stream",
     "text": [
      "月利润100\n",
      "3.95\n"
     ]
    }
   ],
   "source": [
    "l= int(input('月利润'))\n",
    "if 0<l<=10:\n",
    "    l= l*0.1\n",
    "elif l<20:\n",
    "    l= (l-10)*0.075+10*0.1\n",
    "elif l<40:\n",
    "    l=(l-20)*0.05+10*0.075+10*0.1\n",
    "elif l<60:\n",
    "    l=(l-40)*0.03+10*0.1+10*0.075+20*0.05\n",
    "elif l<100:\n",
    "    l=10*0.1+10*0.075+20*0.05+20*0.03+(l-60)*0.015\n",
    "else:\n",
    "    l=10*0.1+10*0.075+20*0.05+20*0.03+40*0.015+(l-100)*0.01\n",
    "print(l)"
   ]
  },
  {
   "cell_type": "code",
   "execution_count": 32,
   "metadata": {},
   "outputs": [
    {
     "name": "stdout",
     "output_type": "stream",
     "text": [
      "请输入当月利润（单位：万元）：100\n",
      "3.95 万元\n"
     ]
    }
   ],
   "source": [
    "I=int(input(\"请输入当月利润（单位：万元）：\"))\n",
    "if int(I)<=10:\n",
    "    print(int(I)*0.1,\"万元\")\n",
    "elif int(I) <= 20:\n",
    "    print(10*0.1+(int(I)-10)*0.075,\"万元\")\n",
    "elif int(I) <= 40:\n",
    "    print(1.75+(int(I)-20)*0.05,\"万元\")\n",
    "elif int(I) <= 60:\n",
    "    print(2.75+(int(I)-40)*0.03,\"万元\")\n",
    "elif int(I) <= 100:\n",
    "    print(3.35+(int(I)-60)*0.015,\"万元\")\n",
    "else:\n",
    "    print(3.95+(int(I)-100)*0.01,\"万元\")"
   ]
  },
  {
   "cell_type": "code",
   "execution_count": 33,
   "metadata": {},
   "outputs": [
    {
     "name": "stdout",
     "output_type": "stream",
     "text": [
      "please enter profit:100\n",
      "3.95 万元\n"
     ]
    }
   ],
   "source": [
    "dollar = int(input(\"please enter profit:\"))\n",
    "profit = [100,60,40,20,10,0]\n",
    "i = [0.01,0.015,0.03,0.05,0.075,0.1]\n",
    "money = 0\n",
    "for index in range(len(i)):\n",
    "    if dollar>profit[index]:\n",
    "        money+=(dollar-profit[index])*i[index]\n",
    "        dollar=profit[index]\n",
    "print(money,'万元')"
   ]
  },
  {
   "cell_type": "markdown",
   "metadata": {},
   "source": [
    "### 练习1.20\n",
    "冒泡排序：将需要排序的元素看作是一个个\"气泡\",最小的\"气泡\"最快浮出水面，排在前面，依次类推。"
   ]
  },
  {
   "cell_type": "code",
   "execution_count": 34,
   "metadata": {},
   "outputs": [
    {
     "data": {
      "text/plain": [
       "[1, 2, 2, 5, 6, 8, 45]"
      ]
     },
     "execution_count": 34,
     "metadata": {},
     "output_type": "execute_result"
    }
   ],
   "source": [
    "def bubbleSort(nums):\n",
    "    for i in range(len(nums)-1):    # 这个循环负责设置冒泡排序进行的次数\n",
    "        for j in range(len(nums)-i-1):  # ｊ为列表下标\n",
    "            if nums[j] > nums[j+1]:\n",
    "                nums[j], nums[j+1] = nums[j+1], nums[j]\n",
    "    return nums\n",
    "\n",
    "nums = [5,2,45,6,8,2,1]\n",
    "bubbleSort(nums)"
   ]
  },
  {
   "cell_type": "markdown",
   "metadata": {},
   "source": [
    "### 练习1.21：\n",
    "请生成1-100之间的素数，并存放于一list中。"
   ]
  },
  {
   "cell_type": "code",
   "execution_count": 35,
   "metadata": {},
   "outputs": [
    {
     "name": "stdout",
     "output_type": "stream",
     "text": [
      "[2, 3, 5, 7, 11, 13, 17, 19, 23, 29, 31, 37, 41, 43, 47, 53, 59, 61, 67, 71, 73, 79, 83, 89, 97]\n"
     ]
    }
   ],
   "source": [
    "list_=[]\n",
    "for i in range(2,100):\n",
    "    for j in range(2,i):\n",
    "        if i%j==0:\n",
    "            break\n",
    "    else:\n",
    "        list_.append(i)\n",
    "print(list_)"
   ]
  },
  {
   "cell_type": "markdown",
   "metadata": {},
   "source": [
    "- i=2,j in range(2,2),for 循环作用于空迭代器不会执行，而是直接结束"
   ]
  },
  {
   "cell_type": "markdown",
   "metadata": {},
   "source": [
    "### 练习1.22：\n",
    "一球从100米高度自由落下，每次落地后反跳回原高度的一半；再落下，求它在第10次落地时，共经过多少米？第十次反弹多高？"
   ]
  },
  {
   "cell_type": "code",
   "execution_count": 36,
   "metadata": {},
   "outputs": [
    {
     "name": "stdout",
     "output_type": "stream",
     "text": [
      "[100, 100.0, 50.0, 25.0, 12.5, 6.25, 3.125, 1.5625, 0.78125, 0.390625, 0.09765625]\n"
     ]
    },
    {
     "data": {
      "text/plain": [
       "299.70703125"
      ]
     },
     "execution_count": 36,
     "metadata": {},
     "output_type": "execute_result"
    }
   ],
   "source": [
    "len_=[]\n",
    "for i in range(1,11):\n",
    "    if i==1:\n",
    "        len_.append(100)\n",
    "    else:\n",
    "        h=100\n",
    "        len_.append(h/2**(i-2))\n",
    "len_.append(len_[9]/4)#第十次反弹的距离\n",
    "print(len_)\n",
    "sum(len_)"
   ]
  },
  {
   "cell_type": "code",
   "execution_count": 37,
   "metadata": {},
   "outputs": [
    {
     "name": "stdout",
     "output_type": "stream",
     "text": [
      "Total of road is 299.609375\n",
      "The tenth is 0.097656 meter\n"
     ]
    }
   ],
   "source": [
    "Sn = 100.0\n",
    "Hn = Sn / 2 \n",
    "for n in range(2,11):\n",
    "    Sn += 2 * Hn\n",
    "    Hn /= 2   \n",
    "print ('Total of road is %f' % Sn)\n",
    "print ('The tenth is %f meter' % Hn)"
   ]
  },
  {
   "cell_type": "markdown",
   "metadata": {},
   "source": [
    "\n",
    "### 练习1.23:\n",
    "问题描述: 输入一个整数, 求该整数二进制表达式里连续出现1最多的次数是多少?"
   ]
  },
  {
   "cell_type": "code",
   "execution_count": 38,
   "metadata": {},
   "outputs": [
    {
     "data": {
      "text/plain": [
       "'10011100010000'"
      ]
     },
     "execution_count": 38,
     "metadata": {},
     "output_type": "execute_result"
    }
   ],
   "source": [
    "#十进制转二进制\n",
    "def dec2bin(x):\n",
    "    result=''\n",
    "    if x:\n",
    "        result=dec2bin(x//2)\n",
    "        return result+str(x%2)\n",
    "    else:\n",
    "        return result\n",
    "#传入要计算的整数    \n",
    "s=dec2bin(10000)\n",
    "s"
   ]
  },
  {
   "cell_type": "code",
   "execution_count": 39,
   "metadata": {},
   "outputs": [
    {
     "data": {
      "text/plain": [
       "5"
      ]
     },
     "execution_count": 39,
     "metadata": {},
     "output_type": "execute_result"
    }
   ],
   "source": [
    "count=0\n",
    "for i in range(len(s)):\n",
    "    if s[i]=='1':\n",
    "        count+=1\n",
    "    else:\n",
    "        count+=0\n",
    "count"
   ]
  },
  {
   "cell_type": "code",
   "execution_count": 40,
   "metadata": {},
   "outputs": [
    {
     "name": "stdout",
     "output_type": "stream",
     "text": [
      "10000 0b10011100010000 2 [0, 1, 2, 1]\n"
     ]
    }
   ],
   "source": [
    "n=10000\n",
    "s=bin(n)\n",
    "num=0\n",
    "num_list=[0]\n",
    "for i in range(0,len(s)-1):\n",
    "    for j in range(i+1,len(s)):\n",
    "        if s[i:i+1]==s[j:j+1] and s[i:i+1]=='1':\n",
    "            num+=1\n",
    "            num_list.append(num)\n",
    "        else:\n",
    "            break\n",
    "    num=0\n",
    "print(n,s,max(num_list),num_list)"
   ]
  },
  {
   "cell_type": "markdown",
   "metadata": {},
   "source": [
    "### 练习1.24:\n",
    "\n",
    "题目描述\n",
    "\n",
    "输入一个字符串，求出该字符串包含的字符集合\n",
    "\n",
    "输入描述:\n",
    "\n",
    "每组数据输入一个字符串，字符串最大长度为100，且只包含字母，不可能为空串，区分大小写。\n",
    "\n",
    "输出描述:\n",
    "\n",
    "每组数据一行，按字符串原有的字符顺序，输出字符集合，即重复出现并靠后的字母不输出。 输入例子:\n",
    "\n",
    "abcqweracb\n",
    "\n",
    "输出例子:\n",
    "\n",
    "abcqwer"
   ]
  },
  {
   "cell_type": "code",
   "execution_count": 41,
   "metadata": {},
   "outputs": [
    {
     "data": {
      "text/plain": [
       "{'a', 'c', 'd', 'e', 'f', 'r', 'w'}"
      ]
     },
     "execution_count": 41,
     "metadata": {},
     "output_type": "execute_result"
    }
   ],
   "source": [
    "s='fafafadfafewrwerc'\n",
    "set(s)"
   ]
  },
  {
   "cell_type": "code",
   "execution_count": 42,
   "metadata": {},
   "outputs": [
    {
     "data": {
      "text/plain": [
       "'abcqwer'"
      ]
     },
     "execution_count": 42,
     "metadata": {},
     "output_type": "execute_result"
    }
   ],
   "source": [
    "s = 'abcqweracb'\n",
    "dic = {}\n",
    "for e in s:\n",
    "    dic[e] = 1\n",
    "\n",
    "result = ''\n",
    "for e in s:\n",
    "    if e in dic:\n",
    "        dic.pop(e)\n",
    "        result = result + e\n",
    "        \n",
    "result"
   ]
  },
  {
   "cell_type": "markdown",
   "metadata": {},
   "source": [
    "### 练习1.25:\n",
    "某个公司采用公用电话传递数据，数据是四位的整数，在传递过程中是加密的，加密规则如下：每位数字都加上5,然后用和除以10的余数代替该数字，再将第一位和第四位交换，第二位和第三位交换。"
   ]
  },
  {
   "cell_type": "code",
   "execution_count": 43,
   "metadata": {},
   "outputs": [
    {
     "data": {
      "text/plain": [
       "[9, 8, 7, 6]"
      ]
     },
     "execution_count": 43,
     "metadata": {},
     "output_type": "execute_result"
    }
   ],
   "source": [
    "l=[1,2,3,4]\n",
    "l1=[]\n",
    "l2=[]\n",
    "for i in range(4):\n",
    "    l1.append((l[i]+5)%10)\n",
    "for i in range(4):\n",
    "    if i==0:\n",
    "        l2.append(l1[3])\n",
    "    elif i==1:\n",
    "        l2.append(l1[2])\n",
    "    elif i==2:\n",
    "        l2.append(l1[1])\n",
    "    else:\n",
    "        l2.append(l1[0])\n",
    "l2"
   ]
  },
  {
   "cell_type": "code",
   "execution_count": 44,
   "metadata": {},
   "outputs": [
    {
     "name": "stdout",
     "output_type": "stream",
     "text": [
      "请输入一个四位整数：1234\n",
      "9 8 7 6\n"
     ]
    }
   ],
   "source": [
    "num=int(input('请输入一个四位整数：'))\n",
    "\n",
    "a=num//1000\n",
    "b=num//100%10\n",
    "c=num%100//10\n",
    "d=num%10\n",
    "a=(a+5)%10\n",
    "b=(b+5)%10\n",
    "c=(c+5)%10\n",
    "d=(d+5)%10\n",
    "print(d,c,b,a)"
   ]
  },
  {
   "cell_type": "markdown",
   "metadata": {},
   "source": [
    "## 函数练习"
   ]
  },
  {
   "cell_type": "markdown",
   "metadata": {},
   "source": [
    "### 练习1.26:\n",
    "定义一个函数，遍历列表中的对象进行计数，将计数值保存在字典中。"
   ]
  },
  {
   "cell_type": "code",
   "execution_count": 45,
   "metadata": {},
   "outputs": [],
   "source": [
    "def Count(l):\n",
    "    d={}\n",
    "    for i in l:\n",
    "        if i not in d.keys():\n",
    "            d[i]=1\n",
    "        else:\n",
    "            d[i]=d[i]+1\n",
    "    return(d)"
   ]
  },
  {
   "cell_type": "code",
   "execution_count": 46,
   "metadata": {},
   "outputs": [
    {
     "data": {
      "text/plain": [
       "{'a': 2, 2: 1, 3: 2, 5: 2, 'b': 1, 'c': 2}"
      ]
     },
     "execution_count": 46,
     "metadata": {},
     "output_type": "execute_result"
    }
   ],
   "source": [
    "m=['a','a',2,3,5,5,'b','c',3,'c']\n",
    "Count(m)"
   ]
  },
  {
   "cell_type": "markdown",
   "metadata": {},
   "source": [
    "### 练习1.27:\n",
    "汉诺塔问题 训练内容: 递归函数 问题描述: 有三根杆子A，B，C。A杆上有N个(N>1)穿孔圆盘，盘的尺寸由下到上依次变小。要求按下列规则将所有圆盘移至C杆： 1.每次只能移动一个圆盘； 2.大盘不能叠在小盘上面。 提示：可将圆盘临时置于B杆，也可将从A杆移出的圆盘重新移回A杆，但都必须遵循上述两条规则。 问：如何移？最少要移动多少次？"
   ]
  },
  {
   "cell_type": "code",
   "execution_count": 47,
   "metadata": {},
   "outputs": [
    {
     "name": "stdout",
     "output_type": "stream",
     "text": [
      "请输入汉诺塔的层数:4\n",
      "A -> B\n",
      "A -> C\n",
      "B -> C\n",
      "A -> B\n",
      "C -> A\n",
      "C -> B\n",
      "A -> B\n",
      "A -> C\n",
      "B -> C\n",
      "B -> A\n",
      "C -> A\n",
      "B -> C\n",
      "A -> B\n",
      "A -> C\n",
      "B -> C\n"
     ]
    }
   ],
   "source": [
    "def hano(n,x,y,z):\n",
    "    if n==1:\n",
    "        print(x,\"->\",z)\n",
    "    else:\n",
    "        #将n-1个盘子从x->y\n",
    "        hano(n-1,x,z,y)\n",
    "        #将剩余的最后一个盘子从x->z\n",
    "        print(x,\"->\",z)\n",
    "        #将剩余的n-1个盘子从y->z \n",
    "        hano(n-1,y,x,z)\n",
    "        \n",
    "n = int(input(\"请输入汉诺塔的层数:\"))\n",
    "\n",
    "hano(n,\"A\",\"B\",\"C\")"
   ]
  },
  {
   "cell_type": "markdown",
   "metadata": {},
   "source": [
    "### 练习1.28:\n",
    "一元二次方程求解 训练内容: 分支结构, 异常处理 问题描述: 给定一个一元二次方程的参数, 求相应的根. 函数方程的格式为 ax2+bx+c=0(a≠0)ax2+bx+c=0(a≠0)"
   ]
  },
  {
   "cell_type": "code",
   "execution_count": 48,
   "metadata": {},
   "outputs": [],
   "source": [
    "def exp(a,b,c):\n",
    "    if a!=0:\n",
    "        x1=(-b+(b**2-4*a*c)**0.5)/2*a\n",
    "        x2=(-b-(b**2-4*a*c)**0.5)/2*a\n",
    "        print(x1,x2)\n",
    "    else:\n",
    "        x1=(-c)/b\n",
    "        print(x1)"
   ]
  },
  {
   "cell_type": "code",
   "execution_count": 49,
   "metadata": {},
   "outputs": [
    {
     "name": "stdout",
     "output_type": "stream",
     "text": [
      "-4.0 -4.0\n"
     ]
    }
   ],
   "source": [
    "exp(2,4,2)"
   ]
  },
  {
   "cell_type": "markdown",
   "metadata": {},
   "source": [
    "### 练习1.29:\n",
    "定义一个函数，已知圆心坐标(eg.(x0,y0))和圆周上某一点的坐标(eg.(xc,yc))，试求该圆的面积。(第一个函数用来求圆的半径，第二个函数求圆的面积，第三个把前2个函数连接起来)"
   ]
  },
  {
   "cell_type": "code",
   "execution_count": 50,
   "metadata": {},
   "outputs": [],
   "source": [
    "import math\n",
    "def r_(x0,y0,xc,yc):\n",
    "    r=((x0-xc)**2+(y0-yc)**2)**0.5\n",
    "    return(r)\n",
    "def s_(r):\n",
    "    s=math.pi*r**2\n",
    "    return(s)\n",
    "def n_(a,b,c,d,r_,s_):\n",
    "    m=s_(r_(a,b,c,d))\n",
    "    return(m)"
   ]
  },
  {
   "cell_type": "code",
   "execution_count": 51,
   "metadata": {},
   "outputs": [
    {
     "data": {
      "text/plain": [
       "12.566370614359172"
      ]
     },
     "execution_count": 51,
     "metadata": {},
     "output_type": "execute_result"
    }
   ],
   "source": [
    "n_(5,8,7,8,r_,s_)"
   ]
  },
  {
   "cell_type": "markdown",
   "metadata": {},
   "source": [
    "### 练习1.30:\n",
    "递归函数--阶乘n！"
   ]
  },
  {
   "cell_type": "code",
   "execution_count": 52,
   "metadata": {},
   "outputs": [],
   "source": [
    "def fac(n):\n",
    "    if n==1:\n",
    "        return(1)\n",
    "    else:\n",
    "        return(n*fac(n-1))"
   ]
  },
  {
   "cell_type": "code",
   "execution_count": 53,
   "metadata": {},
   "outputs": [
    {
     "data": {
      "text/plain": [
       "3628800"
      ]
     },
     "execution_count": 53,
     "metadata": {},
     "output_type": "execute_result"
    }
   ],
   "source": [
    "fac(10)"
   ]
  },
  {
   "cell_type": "markdown",
   "metadata": {},
   "source": [
    "### 练习1.31:\n",
    "递归函数---斐波那契数列"
   ]
  },
  {
   "cell_type": "code",
   "execution_count": 54,
   "metadata": {},
   "outputs": [],
   "source": [
    "def f(n):\n",
    "    if n==1:\n",
    "        return(1)\n",
    "    elif n==2:\n",
    "        return(1)\n",
    "    else:\n",
    "        return(f(n-1)+f(n-2))"
   ]
  },
  {
   "cell_type": "code",
   "execution_count": 55,
   "metadata": {},
   "outputs": [
    {
     "data": {
      "text/plain": [
       "21"
      ]
     },
     "execution_count": 55,
     "metadata": {},
     "output_type": "execute_result"
    }
   ],
   "source": [
    "f(8)"
   ]
  },
  {
   "cell_type": "markdown",
   "metadata": {},
   "source": [
    "### 练习1.32:\n",
    "小易每天必须吃一个水果并且每天支付x元房租，现在小易手中已经有f个水果和d元钱，小易会去买一些水果，每个水果卖p元，帮他计算一下他最能独立生活多少天？"
   ]
  },
  {
   "cell_type": "code",
   "execution_count": 56,
   "metadata": {},
   "outputs": [
    {
     "name": "stdout",
     "output_type": "stream",
     "text": [
      "小易现一共有的金额：250\n",
      "小易手中有的水果数：8\n",
      "每个水果的价格：6\n",
      "每天的房租：60\n",
      "可以独立生活4天\n"
     ]
    }
   ],
   "source": [
    "d=int(input('小易现一共有的金额：'))\n",
    "f=int(input('小易手中有的水果数：'))\n",
    "p=int(input('每个水果的价格：'))\n",
    "x=int(input('每天的房租：'))\n",
    "print('可以独立生活{}天'.format((d-f*x)//(x+p)+f))"
   ]
  },
  {
   "cell_type": "markdown",
   "metadata": {},
   "source": [
    "## 异常和基础函数练习"
   ]
  },
  {
   "cell_type": "markdown",
   "metadata": {},
   "source": [
    "### 练习1.33:\n",
    "- 猜数字问题\n",
    "- 训练内容: 分支结构, 循环结构, 异常处理\n",
    "- 问题描述: 由系统程序产生一个 1 - 100 之间的随机整数, 然后去猜测数字是多少, 猜测正确或者猜测次数超过5次, 给出相应提示并结束游戏."
   ]
  },
  {
   "cell_type": "code",
   "execution_count": 57,
   "metadata": {},
   "outputs": [
    {
     "name": "stdout",
     "output_type": "stream",
     "text": [
      "请输入一个数字：50\n",
      "更小\n",
      "请重新输入一个数字：20\n",
      "更大\n",
      "请重新输入一个数字：35\n",
      "更小\n",
      "请重新输入一个数字：22\n",
      "更大\n",
      "请重新输入一个数字：30\n",
      "很遗憾，游戏结束\n",
      "正确答案： 27\n"
     ]
    }
   ],
   "source": [
    "import random\n",
    "n=int(input('请输入一个数字：'))\n",
    "number=random.randint(1,100)\n",
    "i=0\n",
    "while i<=3:\n",
    "    if n==number:\n",
    "        print('猜对了')\n",
    "        break\n",
    "    elif n<number:\n",
    "        print('更大')\n",
    "        n=int(input('请重新输入一个数字：'))\n",
    "        i+=1\n",
    "    elif n>number:\n",
    "        print('更小')\n",
    "        n=int(input('请重新输入一个数字：'))\n",
    "        i+=1\n",
    "    if i>3:\n",
    "        print('很遗憾，游戏结束')\n",
    "        print('正确答案：',number)"
   ]
  },
  {
   "cell_type": "markdown",
   "metadata": {},
   "source": [
    "### 练习1.34:\n",
    "生成10个（0到1）的随机数，分别做最小-最大规范化，零-均值规范化"
   ]
  },
  {
   "cell_type": "code",
   "execution_count": 58,
   "metadata": {},
   "outputs": [],
   "source": [
    "import random\n",
    "l=[]\n",
    "for i in range(1,11):\n",
    "    l.append(random.random())\n",
    "l=pd.DataFrame(l)"
   ]
  },
  {
   "cell_type": "code",
   "execution_count": 59,
   "metadata": {
    "collapsed": true
   },
   "outputs": [
    {
     "data": {
      "text/html": [
       "<div>\n",
       "<style scoped>\n",
       "    .dataframe tbody tr th:only-of-type {\n",
       "        vertical-align: middle;\n",
       "    }\n",
       "\n",
       "    .dataframe tbody tr th {\n",
       "        vertical-align: top;\n",
       "    }\n",
       "\n",
       "    .dataframe thead th {\n",
       "        text-align: right;\n",
       "    }\n",
       "</style>\n",
       "<table border=\"1\" class=\"dataframe\">\n",
       "  <thead>\n",
       "    <tr style=\"text-align: right;\">\n",
       "      <th></th>\n",
       "      <th>0</th>\n",
       "    </tr>\n",
       "  </thead>\n",
       "  <tbody>\n",
       "    <tr>\n",
       "      <th>0</th>\n",
       "      <td>0.603378</td>\n",
       "    </tr>\n",
       "    <tr>\n",
       "      <th>1</th>\n",
       "      <td>0.486126</td>\n",
       "    </tr>\n",
       "    <tr>\n",
       "      <th>2</th>\n",
       "      <td>0.976154</td>\n",
       "    </tr>\n",
       "    <tr>\n",
       "      <th>3</th>\n",
       "      <td>0.469827</td>\n",
       "    </tr>\n",
       "    <tr>\n",
       "      <th>4</th>\n",
       "      <td>0.000000</td>\n",
       "    </tr>\n",
       "    <tr>\n",
       "      <th>5</th>\n",
       "      <td>1.000000</td>\n",
       "    </tr>\n",
       "    <tr>\n",
       "      <th>6</th>\n",
       "      <td>0.023046</td>\n",
       "    </tr>\n",
       "    <tr>\n",
       "      <th>7</th>\n",
       "      <td>0.310641</td>\n",
       "    </tr>\n",
       "    <tr>\n",
       "      <th>8</th>\n",
       "      <td>0.623152</td>\n",
       "    </tr>\n",
       "    <tr>\n",
       "      <th>9</th>\n",
       "      <td>0.618888</td>\n",
       "    </tr>\n",
       "  </tbody>\n",
       "</table>\n",
       "</div>"
      ],
      "text/plain": [
       "          0\n",
       "0  0.603378\n",
       "1  0.486126\n",
       "2  0.976154\n",
       "3  0.469827\n",
       "4  0.000000\n",
       "5  1.000000\n",
       "6  0.023046\n",
       "7  0.310641\n",
       "8  0.623152\n",
       "9  0.618888"
      ]
     },
     "execution_count": 59,
     "metadata": {},
     "output_type": "execute_result"
    }
   ],
   "source": [
    "max_min=[]\n",
    "for number in range(0,10):\n",
    "    nu=l.iloc[number]\n",
    "    max_min.append((nu-l.min())/(l.max()-l.min()))\n",
    "pd.DataFrame(max_min)"
   ]
  },
  {
   "cell_type": "code",
   "execution_count": 60,
   "metadata": {
    "collapsed": true
   },
   "outputs": [
    {
     "data": {
      "text/html": [
       "<div>\n",
       "<style scoped>\n",
       "    .dataframe tbody tr th:only-of-type {\n",
       "        vertical-align: middle;\n",
       "    }\n",
       "\n",
       "    .dataframe tbody tr th {\n",
       "        vertical-align: top;\n",
       "    }\n",
       "\n",
       "    .dataframe thead th {\n",
       "        text-align: right;\n",
       "    }\n",
       "</style>\n",
       "<table border=\"1\" class=\"dataframe\">\n",
       "  <thead>\n",
       "    <tr style=\"text-align: right;\">\n",
       "      <th></th>\n",
       "      <th>0</th>\n",
       "    </tr>\n",
       "  </thead>\n",
       "  <tbody>\n",
       "    <tr>\n",
       "      <th>0</th>\n",
       "      <td>0.287473</td>\n",
       "    </tr>\n",
       "    <tr>\n",
       "      <th>1</th>\n",
       "      <td>-0.077885</td>\n",
       "    </tr>\n",
       "    <tr>\n",
       "      <th>2</th>\n",
       "      <td>1.449046</td>\n",
       "    </tr>\n",
       "    <tr>\n",
       "      <th>3</th>\n",
       "      <td>-0.128673</td>\n",
       "    </tr>\n",
       "    <tr>\n",
       "      <th>4</th>\n",
       "      <td>-1.592657</td>\n",
       "    </tr>\n",
       "    <tr>\n",
       "      <th>5</th>\n",
       "      <td>1.523350</td>\n",
       "    </tr>\n",
       "    <tr>\n",
       "      <th>6</th>\n",
       "      <td>-1.520846</td>\n",
       "    </tr>\n",
       "    <tr>\n",
       "      <th>7</th>\n",
       "      <td>-0.624699</td>\n",
       "    </tr>\n",
       "    <tr>\n",
       "      <th>8</th>\n",
       "      <td>0.349090</td>\n",
       "    </tr>\n",
       "    <tr>\n",
       "      <th>9</th>\n",
       "      <td>0.335801</td>\n",
       "    </tr>\n",
       "  </tbody>\n",
       "</table>\n",
       "</div>"
      ],
      "text/plain": [
       "          0\n",
       "0  0.287473\n",
       "1 -0.077885\n",
       "2  1.449046\n",
       "3 -0.128673\n",
       "4 -1.592657\n",
       "5  1.523350\n",
       "6 -1.520846\n",
       "7 -0.624699\n",
       "8  0.349090\n",
       "9  0.335801"
      ]
     },
     "execution_count": 60,
     "metadata": {},
     "output_type": "execute_result"
    }
   ],
   "source": [
    "z_score=[]\n",
    "for number in range(0,10):\n",
    "    nu=l.iloc[number]\n",
    "    z_score.append((nu-np.mean(l))/np.std(l))\n",
    "pd.DataFrame(z_score)"
   ]
  },
  {
   "cell_type": "markdown",
   "metadata": {},
   "source": [
    "### 练习1.35:\n",
    "生成10个（0到1）的随机整数，做小数定标规范化"
   ]
  },
  {
   "cell_type": "code",
   "execution_count": 61,
   "metadata": {},
   "outputs": [
    {
     "data": {
      "text/plain": [
       "[95, 2, 93, 41, 27, 52, 43, 27, 31, 88]"
      ]
     },
     "execution_count": 61,
     "metadata": {},
     "output_type": "execute_result"
    }
   ],
   "source": [
    "l=[]\n",
    "for i in range(10):\n",
    "    l.append(random.randint(0,100))\n",
    "l"
   ]
  },
  {
   "cell_type": "code",
   "execution_count": 62,
   "metadata": {},
   "outputs": [
    {
     "data": {
      "text/plain": [
       "[0.95, 0.02, 0.93, 0.41, 0.27, 0.52, 0.43, 0.27, 0.31, 0.88]"
      ]
     },
     "execution_count": 62,
     "metadata": {},
     "output_type": "execute_result"
    }
   ],
   "source": [
    "l2=[]\n",
    "for i in range(10):\n",
    "    l2.append(l[i]/100)\n",
    "l2"
   ]
  },
  {
   "cell_type": "markdown",
   "metadata": {},
   "source": [
    "### 练习1.36:\n",
    "hh=[11,22,33],在每个元素上加100(分别用def和lambda)\n",
    "[11,22,33],[44,55,66],[77,88,99]想得到[114477,225588,336699] (分别用def和lambda)"
   ]
  },
  {
   "cell_type": "code",
   "execution_count": 63,
   "metadata": {},
   "outputs": [
    {
     "data": {
      "text/plain": [
       "[111, 122, 133]"
      ]
     },
     "execution_count": 63,
     "metadata": {},
     "output_type": "execute_result"
    }
   ],
   "source": [
    "hh=[11,22,33]\n",
    "\n",
    "def add_100(a):\n",
    "    n=[i+100 for i in a]\n",
    "    return(n)\n",
    "\n",
    "add_100(hh)"
   ]
  },
  {
   "cell_type": "code",
   "execution_count": 64,
   "metadata": {},
   "outputs": [
    {
     "data": {
      "text/plain": [
       "[114477, 225588, 336699]"
      ]
     },
     "execution_count": 64,
     "metadata": {},
     "output_type": "execute_result"
    }
   ],
   "source": [
    "a=[11,22,33]\n",
    "b=[44,55,66]\n",
    "c=[77,88,99]\n",
    "n=[]\n",
    "def XN(a,b,c,d):\n",
    "    for i in range(len(a)):\n",
    "        d.append(a[i]*10000+b[i]*100+c[i])\n",
    "    return(d)\n",
    "XN(a,b,c,n)"
   ]
  },
  {
   "cell_type": "markdown",
   "metadata": {},
   "source": [
    "### 练习1.37:\n",
    "a=list(range(1,10)) b=list(range(2,20,2))#求a+b，对应的元素相加"
   ]
  },
  {
   "cell_type": "code",
   "execution_count": 65,
   "metadata": {},
   "outputs": [
    {
     "name": "stdout",
     "output_type": "stream",
     "text": [
      "[3, 6, 9, 12, 15, 18, 21, 24, 27]\n"
     ]
    }
   ],
   "source": [
    "a=list(range(1,10))\n",
    "b=list(range(2,20,2))\n",
    "\n",
    "c=[]\n",
    "for i in range(0,9):\n",
    "    c.append(a[i]+b[i])\n",
    "print(c)"
   ]
  },
  {
   "cell_type": "markdown",
   "metadata": {},
   "source": [
    "## 列表生成器和高级函数练习"
   ]
  },
  {
   "cell_type": "markdown",
   "metadata": {},
   "source": [
    "### 练习1.38:\n",
    "某工厂用A、B两种配件生产甲、乙两种产品，每生产一件甲产品使用4个A 配件并耗时1 h，每生产一件乙产品使用4个B配件并耗时2 h，该厂每天最 多可从配件厂获得16个A配件和12个B配件，按每天工作8 h计算： ① 该厂所有可能的日生产安排是什么？ ② 若生产一件甲产品获利2万元，生产一件乙产品获利3万元，采用哪种生产安排获得的利润最大？"
   ]
  },
  {
   "cell_type": "code",
   "execution_count": 66,
   "metadata": {},
   "outputs": [
    {
     "name": "stdout",
     "output_type": "stream",
     "text": [
      "[[0, 0], [0, 1], [0, 2], [0, 3], [1, 0], [1, 1], [1, 2], [1, 3], [2, 0], [2, 1], [2, 2], [2, 3], [3, 0], [3, 1], [3, 2], [4, 0], [4, 1], [4, 2]]\n"
     ]
    }
   ],
   "source": [
    "a=[0,1,2,3,4]\n",
    "b=[0,1,2,3]\n",
    "c=[]\n",
    "for i in a:\n",
    "    for j in b:\n",
    "        if i+2*j<=8:\n",
    "            c.append([i,j])\n",
    "print(c)"
   ]
  },
  {
   "cell_type": "code",
   "execution_count": 67,
   "metadata": {},
   "outputs": [
    {
     "data": {
      "text/plain": [
       "[0, 3, 6, 9, 2, 5, 8, 11, 4, 7, 10, 13, 6, 9, 12, 8, 11, 14]"
      ]
     },
     "execution_count": 67,
     "metadata": {},
     "output_type": "execute_result"
    }
   ],
   "source": [
    "e=[]\n",
    "for i in range(len(c)):\n",
    "    e.append(c[i][0]*2+c[i][1]*3)\n",
    "e"
   ]
  },
  {
   "cell_type": "markdown",
   "metadata": {},
   "source": [
    "### 练习1.39:\n",
    "matrix=[[1,2,3,4],[5,6,7,8],[9,10,11,12]]这样一个列表怎么得到[[1, 5, 9], [2, 6, 10], [3, 7, 11], [4, 8, 12]]"
   ]
  },
  {
   "cell_type": "code",
   "execution_count": 68,
   "metadata": {},
   "outputs": [
    {
     "data": {
      "text/plain": [
       "[[1, 5, 9], [2, 6, 10], [3, 7, 11], [4, 8, 12]]"
      ]
     },
     "execution_count": 68,
     "metadata": {},
     "output_type": "execute_result"
    }
   ],
   "source": [
    "matrix=[[1,2,3,4],[5,6,7,8],[9,10,11,12]]\n",
    "[[j[i] for j in matrix] for i in range(4)]"
   ]
  },
  {
   "cell_type": "markdown",
   "metadata": {},
   "source": [
    "### 练习1.40:\n",
    "strings=[\"a\",\"as\",\"bat\",\"car\",\"dove\",\"python\"]过滤掉长度小于等于2的字符串，并将剩下的字符串转换成大写字母形式。"
   ]
  },
  {
   "cell_type": "code",
   "execution_count": 69,
   "metadata": {},
   "outputs": [
    {
     "data": {
      "text/plain": [
       "['BAT', 'CAR', 'DOVE', 'PYTHON']"
      ]
     },
     "execution_count": 69,
     "metadata": {},
     "output_type": "execute_result"
    }
   ],
   "source": [
    "strings=[\"a\",\"as\",\"bat\",\"car\",\"dove\",\"python\"]\n",
    "string=[]\n",
    "for i in range(len(strings)):\n",
    "    if len(strings[i])>2:\n",
    "        string.append(strings[i].upper())\n",
    "string"
   ]
  },
  {
   "cell_type": "markdown",
   "metadata": {},
   "source": [
    "### 练习1.41:\n",
    "strings=[\"a\",\"as\",\"bat\",\"car\",\"dove\",\"python\"]创建一个指向列表位置的映射关系的字典。"
   ]
  },
  {
   "cell_type": "code",
   "execution_count": 70,
   "metadata": {},
   "outputs": [
    {
     "data": {
      "text/plain": [
       "{'a': 'as', 'bat': 'car', 'dove': 'python'}"
      ]
     },
     "execution_count": 70,
     "metadata": {},
     "output_type": "execute_result"
    }
   ],
   "source": [
    "strings=[\"a\",\"as\",\"bat\",\"car\",\"dove\",\"python\"]\n",
    "d={}\n",
    "for i in range(0,len(strings),2):\n",
    "    d[strings[i]]=strings[i+1]\n",
    "d"
   ]
  },
  {
   "cell_type": "code",
   "execution_count": 71,
   "metadata": {},
   "outputs": [
    {
     "data": {
      "text/plain": [
       "{'a': 'as', 'bat': 'car', 'dove': 'python'}"
      ]
     },
     "execution_count": 71,
     "metadata": {},
     "output_type": "execute_result"
    }
   ],
   "source": [
    "strings=[\"a\",\"as\",\"bat\",\"car\",\"dove\",\"python\"]\n",
    "d=dict(zip(strings[0::2],strings[1::2]))\n",
    "d"
   ]
  },
  {
   "cell_type": "markdown",
   "metadata": {},
   "source": [
    "### 练习1.42:\n",
    "some_tuples=[(1,2,3),(4,5,6),(7,8,9)]将这个整数元组构成的列表成为一个简单的整数列表。"
   ]
  },
  {
   "cell_type": "code",
   "execution_count": 72,
   "metadata": {},
   "outputs": [
    {
     "data": {
      "text/plain": [
       "[1, 2, 3, 4, 5, 6, 7, 8, 9]"
      ]
     },
     "execution_count": 72,
     "metadata": {},
     "output_type": "execute_result"
    }
   ],
   "source": [
    "some_tuples=[(1,2,3),(4,5,6),(7,8,9)]\n",
    "l=[]\n",
    "for i in some_tuples:\n",
    "    for j in i:\n",
    "        l.append(j)\n",
    "l"
   ]
  },
  {
   "cell_type": "markdown",
   "metadata": {},
   "source": [
    "### 练习1.43:\n",
    "all_data=[[\"Tom\",\"Billy\",\"Jefferson\",\"Andrew\",\"Wesley\",\"Steven\",\"Joe\"], [\"Susie\",\"Casey\",\"Jill\",\"Ana\",\"Eva\",\"Jennifer\",\"Stephanie\"]]我们要找出带有2个或以上的字母e的名字，并将它们放入一个新列表。"
   ]
  },
  {
   "cell_type": "code",
   "execution_count": 73,
   "metadata": {},
   "outputs": [
    {
     "name": "stdout",
     "output_type": "stream",
     "text": [
      "['Jefferson', 'Wesley', 'Steven', 'Jennifer', 'Stephanie']\n"
     ]
    }
   ],
   "source": [
    "all_data=[[\"Tom\",\"Billy\",\"Jefferson\",\"Andrew\",\"Wesley\",\"Steven\",\"Joe\"], [\"Susie\",\"Casey\",\"Jill\",\"Ana\",\"Eva\",\"Jennifer\",\"Stephanie\"]]\n",
    "l=[]\n",
    "for i in all_data:\n",
    "    for j in i:\n",
    "        m=j.count('e')\n",
    "        if m>=2:\n",
    "            l.append(j)\n",
    "print(l)"
   ]
  },
  {
   "cell_type": "markdown",
   "metadata": {},
   "source": [
    "### 练习1.44:\n",
    "strings=[\"foo\",\"card\",\"bar\",\"aaaa\",\"abab\"]按照字符串长度排序"
   ]
  },
  {
   "cell_type": "code",
   "execution_count": 74,
   "metadata": {
    "scrolled": true
   },
   "outputs": [
    {
     "data": {
      "text/plain": [
       "['foo', 'bar', 'card', 'aaaa', 'abab']"
      ]
     },
     "execution_count": 74,
     "metadata": {},
     "output_type": "execute_result"
    }
   ],
   "source": [
    "strings=[\"foo\",\"card\",\"bar\",\"aaaa\",\"abab\"]\n",
    "strings.sort(key=lambda x:len(x))\n",
    "strings"
   ]
  },
  {
   "cell_type": "markdown",
   "metadata": {},
   "source": [
    "### 练习1.45:\n",
    "- 蒙特卡洛方法计算π的值\n",
    "- 训练内容: 循环, 分支结构\n",
    "- 问题描述: 通过蒙特卡洛方法模拟计算π的值是多少\n",
    "- Tips: 蒙特卡洛方法（英语：Monte Carlo method），也称统计模拟方法，是1940年代中期由于科学技术的发展和电子计算机的发明，而提出的一种以概率统计理论为指导的数值计算方法。 是指使用随机数（或更常见的伪随机数）来解决很多计算问题的方法。"
   ]
  },
  {
   "cell_type": "code",
   "execution_count": 75,
   "metadata": {},
   "outputs": [
    {
     "name": "stdout",
     "output_type": "stream",
     "text": [
      "3.143972\n"
     ]
    }
   ],
   "source": [
    "#蒙特卡罗方法计算圆周率\n",
    "import random\n",
    "s = 1000*1000\n",
    "hits = 0\n",
    "for i in range(s):\n",
    "    x = random.random()\n",
    "    y = random.random()\n",
    "    z = (x**2+y**2)**0.5\n",
    "    if z<=1:\n",
    "        hits +=1\n",
    "\n",
    "PI = 4*(hits/s)\n",
    "print(PI)"
   ]
  }
 ],
 "metadata": {
  "kernelspec": {
   "display_name": "Python 3",
   "language": "python",
   "name": "python3"
  },
  "language_info": {
   "codemirror_mode": {
    "name": "ipython",
    "version": 3
   },
   "file_extension": ".py",
   "mimetype": "text/x-python",
   "name": "python",
   "nbconvert_exporter": "python",
   "pygments_lexer": "ipython3",
   "version": "3.7.3"
  },
  "toc": {
   "base_numbering": 1,
   "nav_menu": {},
   "number_sections": false,
   "sideBar": true,
   "skip_h1_title": false,
   "title_cell": "Table of Contents",
   "title_sidebar": "Contents",
   "toc_cell": true,
   "toc_position": {
    "height": "calc(100% - 180px)",
    "left": "10px",
    "top": "150px",
    "width": "273.188px"
   },
   "toc_section_display": true,
   "toc_window_display": true
  }
 },
 "nbformat": 4,
 "nbformat_minor": 2
}
